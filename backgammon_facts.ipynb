{
 "cells": [
  {
   "cell_type": "markdown",
   "id": "61d51e75-84f1-4f48-b88b-bffb276baad4",
   "metadata": {},
   "source": [
    "# Watermark of File"
   ]
  },
  {
   "cell_type": "code",
   "execution_count": 1,
   "id": "98c93556-5e10-4542-912d-9d8125175ea6",
   "metadata": {},
   "outputs": [],
   "source": [
    "# https://github.com/rasbt/watermark#installation-and-updating\n",
    "# need to pip install watermark\n",
    "import watermark "
   ]
  },
  {
   "cell_type": "code",
   "execution_count": 2,
   "id": "62db37c0-69e9-45b8-b733-1c843b679021",
   "metadata": {},
   "outputs": [],
   "source": [
    "%load_ext watermark"
   ]
  },
  {
   "cell_type": "code",
   "execution_count": 3,
   "id": "c8d1095e-e485-437b-a8e9-916f805ab74c",
   "metadata": {},
   "outputs": [
    {
     "name": "stdout",
     "output_type": "stream",
     "text": [
      "Last updated: 2022-04-16T23:56:02.762510-07:00\n",
      "\n",
      "Python implementation: CPython\n",
      "Python version       : 3.8.5\n",
      "IPython version      : 8.2.0\n",
      "\n",
      "Compiler    : Clang 10.0.0 \n",
      "OS          : Darwin\n",
      "Release     : 21.3.0\n",
      "Machine     : x86_64\n",
      "Processor   : i386\n",
      "CPU cores   : 12\n",
      "Architecture: 64bit\n",
      "\n"
     ]
    }
   ],
   "source": [
    "%watermark"
   ]
  },
  {
   "cell_type": "code",
   "execution_count": 4,
   "id": "4083ef02-6c52-4ba0-a364-150c0c96f082",
   "metadata": {},
   "outputs": [
    {
     "name": "stdout",
     "output_type": "stream",
     "text": [
      "watermark: 2.3.0\n",
      "\n"
     ]
    }
   ],
   "source": [
    "%watermark --iversions"
   ]
  },
  {
   "cell_type": "markdown",
   "id": "537c5acb-0869-464b-ba16-087ba889e68c",
   "metadata": {},
   "source": [
    "### Terminology\n",
    "\n",
    "For a full list of terminology, you should visit the US Backgammon Federation [Glossary of Terms](https://usbgf.org/backgammon-glossary/). A highlight of the main terms we will use are given below in alphabetical order:\n",
    "\n",
    "> **Checker:** One of the 30 playing pieces used in the game of backgammon. Each player has 15 checkers.\n",
    "> \n",
    "> **Game:** The result of one player getting all of their checkers off of the board. The player will win a predetermined number of points not accounting for modifiers (gammon, backgammon, cubing, ...).\n",
    "> \n",
    "> **Match:** To play a series of backgammon games up to a pre-assigned number of points. The first player to reach the number of specified points is declared the winner of the match.\n",
    ">\n",
    "> **On the Bar:** When your checker is hit and is waiting to re-enter, you are said to be “on the bar”.\n",
    "> \n",
    "> **Pip:** 1 of the 24 points or triangles on a backgammon board.\n",
    "> \n",
    "> **Pip Count:** The number of spaces remaining for each player to bear all his checkers off the board — the totals of which are called the current Pip Count.\n",
    "> \n",
    "> **Prime:** A number of consecutive points, usually four, five or six in a row, that are made with the intention of blocking an opponent from escape. The best prime is when you hold six consecutive points, called Full Prime.\n",
    "> \n",
    "> **Roll:** A toss or throw of the dice.\n",
    "> \n",
    "> **Rollout:** To analyze a position by playing it out many times, either manually or with a computer program.\n",
    "> \n",
    "> "
   ]
  },
  {
   "cell_type": "markdown",
   "id": "23f20494-56c1-4ad4-bd9d-f537b5e4330a",
   "metadata": {},
   "source": [
    "### My Favorite Fact about Backgammon: Ties Don't Exist!\n",
    "\n",
    "Unlike many other stategy games, backgammon contains no game or match level stalemate/tie situations! This blew my mind once I sat down to think about it. \n",
    "\n",
    "The intuition for no match ties is pretty simple. Since a match is simply a collection of games, we can think of those games as ending in a stalemate/tie or not. If they tie, then you could effectively 'waste' the game via a replay. Otherwise, a player wins at least one point and the match continues. If we keep playing games in this fashion, then the match shouldn't tie because one player will reach the rquired number of points before the other. But this assumes that the players do not enter an indefinite stalemate/tie situation. So let's think through the stalemate/tie situation at the game level. If we show this doesn't happen, then we know that matches will not result in a tie either.\n",
    "\n",
    "When we think about the game level, there are a few immediate observations that are needed:\n",
    "\n",
    "1. The only way to prevent an opponent’s checker from moving forward in all circumstances is a 6-point prime. This follows because the largest roll of a die is 6, and combining the dice to move further than 6 points requires that each die be moved independently, meaning you must be able to move 1, 2, 3, 4, 5, or 6 points.\n",
    "2. An established prime of any length will not hold given sufficiently many rolls. This follows because a player is compelled to move when possible. This leads to primes of progressively shorter length and/or gaps in a prime structure. Both of these situations eventually allow opposing runners. So priming an opponent is insufficient to produce a stalemate on its own.\n",
    "3. A player’s position at any point time is a collection of primes scattered around the board.\n",
    "4. The only way to prevent an eventual break down in priming structure is if a prime is set and that player is prevented from moving. The only way this can occur is if at least one of their checkers is not on the board.\n",
    "\n",
    "These observations, taken together, mean that we only need disprove the existence of a position with the following qualities:\n",
    "\n",
    "1. both home boards are closed, and\n",
    "2. both players have at least one checker on the bar.\n",
    "\n",
    "Let’s analyze how this would occur. To send your opponent to the bar, all of your checkers must be on the board for the hit to occur. If this position (post hit) resulted in an open board (i.e, your home board has at least one point with zero or one checkers), then a move is possible, so we are not in a stalemate position. So let’s assume the resulting position is closed. Your home board being closed means your opponent does not have all of their checkers on the board, and they cannot get any additional checkers on the board during their turn. This implies that they cannot send you to the bar at this move. This means one player is closed out before another, and the observations above mean a move is still possible. Thus, our hypothetical position is not possible, so a stalemate position at the game level is not possible. This also implies that the match level stalemate/tie is also not possible!"
   ]
  },
  {
   "cell_type": "markdown",
   "id": "d17c3874-cf95-4e83-8a1f-e1de517ff8c5",
   "metadata": {},
   "source": [
    "### Probability of Particular Pairs of Numbers\n",
    "\n",
    "Because we roll a pair of numbers, we can think of the resulting table being bidirectional, where the vertical numbers are from one die, and horizontal numbers are from the other die. Each pairing (d1,d2) is a pairing of the values from die 1 and die 2, respectively. For instance, the roll die 1 = 3 and die 2 = 4 would be represented by (3,4). For simplicity, we can concatenate the numbers like d1d2. For instance, the roll die 1 = 3 and die 2 = 4 would be represented by 34. \n",
    "\n",
    "The sample space of dice outcomes is given below.\n",
    "\n",
    "|     | 1   | 2   | 3   | 4   | 5   | 6   |\n",
    "- --- | --- | --- | --- | --- | --- | --- |\n",
    "| 1 | (1,1) = 11 | (1,2) = 12 | (1,3) = 13 | (1,4) = 14 | (1,5) = 15 | (1,6) = 16 |\n",
    "| 2 | (2,1) = 21 | (2,2) = 22 | (2,3) = 23 | (2,4) = 24 | (2,5) = 25 | (2,6) = 26 |\n",
    "| 3 | (3,1) = 31 | (3,2) = 32 | (3,3) = 33 | (3,4) = 34 | (3,5) = 35 | (3,6) = 36 |\n",
    "| 4 | (4,1) = 41 | (4,2) = 42 | (4,3) = 43 | (4,4) = 44 | (4,5) = 45 | (4,6) = 46 |\n",
    "| 5 | (5,1) = 51 | (5,2) = 52 | (5,3) = 53 | (5,4) = 54 | (5,5) = 55 | (5,6) = 56 |\n",
    "| 6 | (6,1) = 61 | (6,2) = 62 | (6,3) = 63 | (6,4) = 64 | (6,5) = 65 | (6,6) = 66 |\n",
    "\n",
    "Since the dice are symmetric, we can think of the dice table as being lower triangular, as shown below, in which case the larger of the two dice values is listed first and the smaller of the two dices values is listed second. For instance, die 1 = 3 and die 2 = 4 would be written as 43, and die 1 = 4 and die 2 = 3 would also be written as 43. \n",
    "\n",
    "|     | 1   | 2   | 3   | 4   | 5   | 6   |\n",
    "- --- | --- | --- | --- | --- | --- | --- |\n",
    "| 1 | (1,1) = 11 |  |  |  |  |  |\n",
    "| 2 | (2,1) = 21 | (2,2) = 22 |  |  |  |  |\n",
    "| 3 | (3,1) = 31 | (3,2) = 32 | (3,3) = 33 |  |  |  |\n",
    "| 4 | (4,1) = 41 | (4,2) = 42 | (4,3) = 43 | (4,4) = 44 |  |  |\n",
    "| 5 | (5,1) = 51 | (5,2) = 52 | (5,3) = 53 | (5,4) = 54 | (5,5) = 55 | |\n",
    "| 6 | (6,1) = 61 | (6,2) = 62 | (6,3) = 63 | (6,4) = 64 | (6,5) = 65 | (6,6) = 66 |\n",
    "\n",
    "Since pairings listed in the first table above are unique, the probability of any one of them occurring is 1/36, or approximately 0.0277777777. If we view the dice from the point of view of the second table, then we could also confirm that any off-diagonal entry (non-doubles) should occur at twice the rate of any diagonal entry (doubles) because of symmetry. Let's confirm these with a Monte Carlo rollout."
   ]
  },
  {
   "cell_type": "code",
   "execution_count": null,
   "id": "a6a77ee0-1c68-429d-ab55-b05a6b52ed66",
   "metadata": {},
   "outputs": [],
   "source": []
  }
 ],
 "metadata": {
  "kernelspec": {
   "display_name": "Python 3 (ipykernel)",
   "language": "python",
   "name": "python3"
  },
  "language_info": {
   "codemirror_mode": {
    "name": "ipython",
    "version": 3
   },
   "file_extension": ".py",
   "mimetype": "text/x-python",
   "name": "python",
   "nbconvert_exporter": "python",
   "pygments_lexer": "ipython3",
   "version": "3.8.5"
  }
 },
 "nbformat": 4,
 "nbformat_minor": 5
}
